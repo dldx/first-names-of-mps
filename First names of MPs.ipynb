{
 "cells": [
  {
   "cell_type": "markdown",
   "metadata": {
    "deletable": true,
    "editable": true,
    "toc": true
   },
   "source": [
    "<h1>Table of Contents<span class=\"tocSkip\"></span></h1>\n",
    "<div class=\"toc\" style=\"margin-top: 1em;\"><ul class=\"toc-item\"><li><span><a href=\"#List-of-all-parliaments-since-1935\" data-toc-modified-id=\"List-of-all-parliaments-since-1935-1\"><span class=\"toc-item-num\">1&nbsp;&nbsp;</span>List of all parliaments since 1935</a></span></li><li><span><a href=\"#Use-Wikidata-to-get-MPs\" data-toc-modified-id=\"Use-Wikidata-to-get-MPs-2\"><span class=\"toc-item-num\">2&nbsp;&nbsp;</span>Use Wikidata to get MPs</a></span></li><li><span><a href=\"#Loop-through-each-parliament-and-get-all-MPs-from-Wikidata\" data-toc-modified-id=\"Loop-through-each-parliament-and-get-all-MPs-from-Wikidata-3\"><span class=\"toc-item-num\">3&nbsp;&nbsp;</span>Loop through each parliament and get all MPs from Wikidata</a></span></li></ul></div>"
   ]
  },
  {
   "cell_type": "markdown",
   "metadata": {
    "deletable": true,
    "editable": true
   },
   "source": [
    "### List of all parliaments since 1935"
   ]
  },
  {
   "cell_type": "code",
   "execution_count": 6,
   "metadata": {
    "collapsed": true,
    "deletable": true,
    "editable": true
   },
   "outputs": [],
   "source": [
    "# from: https://www.wikidata.org/wiki/Wikidata:WikiProject_British_Politicians\n",
    "all_parliaments = \"\"\"Q41582593\n",
    "Q41582597\n",
    "Q41582600\n",
    "Q41582603\n",
    "Q41582604\n",
    "Q41582606\n",
    "Q41582608\n",
    "Q41582609\n",
    "Q41582612\n",
    "Q41582615\n",
    "Q41582617\n",
    "Q41582619\n",
    "Q41582621\n",
    "Q41582624\n",
    "Q41582627\n",
    "Q36634044\n",
    "Q35921591\n",
    "Q35647955\n",
    "Q35494253\n",
    "Q30524718\n",
    "Q30524710\"\"\".split(\"\\n\")"
   ]
  },
  {
   "cell_type": "markdown",
   "metadata": {
    "deletable": true,
    "editable": true
   },
   "source": [
    "### Use Wikidata to get MPs"
   ]
  },
  {
   "cell_type": "code",
   "execution_count": 36,
   "metadata": {
    "collapsed": true,
    "deletable": true,
    "editable": true
   },
   "outputs": [],
   "source": [
    "import requests\n",
    "import pandas as pd\n",
    "\n",
    "def extract_optional(row, key):\n",
    "    try:\n",
    "        return row[key][\"value\"]\n",
    "    except KeyError:\n",
    "        return None\n",
    "        \n",
    "def get_wiki(parl):\n",
    "    # Get all mps that exist in wikidata.org\n",
    "    wikidata_query = \"\"\"SELECT DISTINCT ?mp ?mpLabel ?party ?partyLabel ?genderLabel WHERE { ?mp (p:P39/ps:P39/wdt:P279*) wd:\"\"\"+parl + \"\"\".\n",
    "      ?mp wdt:P102 ?party.\n",
    "      OPTIONAL { ?mp wdt:P21 ?gender. }\n",
    "      SERVICE wikibase:label { bd:serviceParam wikibase:language \"en\". }\n",
    "    }\"\"\"\n",
    "\n",
    "    wikidata_data = requests.get('https://query.wikidata.org/bigdata/namespace/wdq/sparql',\n",
    "                                 params={'query': wikidata_query, 'format': 'json'}).json()\n",
    "\n",
    "    \n",
    "\n",
    "    # Convert the results to a pandas dataframe\n",
    "    wikidata_mps = pd.DataFrame([ {\"mp\":mp[\"mpLabel\"][\"value\"], \"mp_id\":mp[\"mp\"][\"value\"],\n",
    "                                   \"gender\":extract_optional(mp, \"genderLabel\"),\n",
    "                                   \"party\": mp[\"partyLabel\"][\"value\"], \"party_id\": mp[\"party\"][\"value\"]} for mp in wikidata_data[\"results\"][\"bindings\"] ])\n",
    "\n",
    "    return wikidata_mps"
   ]
  },
  {
   "cell_type": "markdown",
   "metadata": {
    "deletable": true,
    "editable": true
   },
   "source": [
    "### Loop through each parliament and get all MPs from Wikidata"
   ]
  },
  {
   "cell_type": "code",
   "execution_count": 22,
   "metadata": {
    "collapsed": false,
    "deletable": true,
    "editable": true
   },
   "outputs": [],
   "source": [
    "all_mps = pd.concat([ get_wiki(parl) for parl in all_parliaments])"
   ]
  },
  {
   "cell_type": "markdown",
   "metadata": {
    "deletable": true,
    "editable": true
   },
   "source": [
    "Group by name, gender and id to remove duplicate entries"
   ]
  },
  {
   "cell_type": "code",
   "execution_count": 24,
   "metadata": {
    "collapsed": false,
    "deletable": true,
    "editable": true
   },
   "outputs": [],
   "source": [
    "unique_mps = all_mps[[\"gender\", \"mp\", \"mp_id\"]].groupby([\"gender\", \"mp\", \"mp_id\"]).count().reset_index()"
   ]
  },
  {
   "cell_type": "markdown",
   "metadata": {
    "deletable": true,
    "editable": true
   },
   "source": [
    "Split name into first and last names"
   ]
  },
  {
   "cell_type": "code",
   "execution_count": null,
   "metadata": {
    "collapsed": true,
    "deletable": true,
    "editable": true
   },
   "outputs": [],
   "source": [
    "unique_mps[\"first\"] = unique_mps.mp.apply(lambda x: x.split(\" \")[0] if x.split(\" \")[0] != \"Sir\" else x.split(\" \")[1]).str.replace(\",\", \"\")\n",
    "unique_mps[\"last\"] = unique_mps.mp.apply(lambda x: x.split(\" \")[1]).str.replace(\",\", \"\")"
   ]
  },
  {
   "cell_type": "markdown",
   "metadata": {
    "deletable": true,
    "editable": true
   },
   "source": [
    "Take each gender separately and count all the first names"
   ]
  },
  {
   "cell_type": "code",
   "execution_count": 30,
   "metadata": {
    "collapsed": false,
    "deletable": true,
    "editable": true
   },
   "outputs": [],
   "source": [
    "men = unique_mps[\"first\"].value_counts().reset_index()\\\n",
    "\t.join(unique_mps[[\"gender\", \"first\"]].groupby([\"first\", \"gender\"]).count().reset_index().set_index(\"first\"), on=\"index\")\\\n",
    "    .set_index([\"gender\", \"index\"])\\\n",
    "    .loc[\"male\"].reset_index().rename(columns={\"index\":\"name\", \"first\":\"size\"}).pipe(lambda df: pd.concat([df[:100],pd.DataFrame([{\"name\": \"Other men\", \"size\": df[100:].size.sum()}])])).to_json(orient=\"records\")"
   ]
  },
  {
   "cell_type": "code",
   "execution_count": 31,
   "metadata": {
    "collapsed": false,
    "deletable": true,
    "editable": true
   },
   "outputs": [],
   "source": [
    "women = unique_mps[\"first\"].value_counts().reset_index()\\\n",
    "\t.join(unique_mps[[\"gender\", \"first\"]].groupby([\"first\", \"gender\"]).count().reset_index().set_index(\"first\"), on=\"index\")\\\n",
    "    .set_index([\"gender\", \"index\"])\\\n",
    "    .loc[\"female\"].reset_index().rename(columns={\"index\":\"name\", \"first\":\"size\"}).pipe(lambda df: pd.concat([df[:100],pd.DataFrame([{\"name\": \"Other women\", \"size\": df[100:].size.sum()}])])).to_json(orient=\"records\")"
   ]
  },
  {
   "cell_type": "code",
   "execution_count": 35,
   "metadata": {
    "collapsed": false,
    "deletable": true,
    "editable": true
   },
   "outputs": [
    {
     "data": {
      "text/plain": [
       "'{ \"name\": \"MPs\", \"children\": [ {\"name\": \"men\", \"children\": [{\"name\":\"John\",\"size\":261},{\"name\":\"David\",\"size\":134},{\"name\":\"William\",\"size\":116},{\"name\":\"George\",\"size\":90},{\"name\":\"James\",\"size\":84},{\"name\":\"Robert\",\"size\":73},{\"name\":\"Michael\",\"size\":72},{\"name\":\"Peter\",\"size\":65},{\"name\":\"Richard\",\"size\":61},{\"name\":\"Edward\",\"size\":45},{\"name\":\"Charles\",\"size\":43},{\"name\":\"Ian\",\"size\":39},{\"name\":\"Arthur\",\"size\":38},{\"name\":\"Tom\",\"size\":36},{\"name\":\"Thomas\",\"size\":36},{\"name\":\"Andrew\",\"size\":35},{\"name\":\"Henry\",\"size\":33},{\"name\":\"Alan\",\"size\":33},{\"name\":\"Paul\",\"size\":33},{\"name\":\"Frank\",\"size\":32},{\"name\":\"Stephen\",\"size\":31},{\"name\":\"Mark\",\"size\":30},{\"name\":\"Geoffrey\",\"size\":26},{\"name\":\"Chris\",\"size\":25},{\"name\":\"Walter\",\"size\":24},{\"name\":\"Anthony\",\"size\":24},{\"name\":\"Joseph\",\"size\":24},{\"name\":\"Harry\",\"size\":23},{\"name\":\"Harold\",\"size\":22},{\"name\":\"Frederick\",\"size\":22},{\"name\":\"Patrick\",\"size\":22},{\"name\":\"Christopher\",\"size\":21},{\"name\":\"Alfred\",\"size\":20},{\"name\":\"Norman\",\"size\":20},{\"name\":\"Roger\",\"size\":20},{\"name\":\"Ernest\",\"size\":20},{\"name\":\"Jim\",\"size\":19},{\"name\":\"Eric\",\"size\":19},{\"name\":\"Hugh\",\"size\":19},{\"name\":\"Martin\",\"size\":18},{\"name\":\"Douglas\",\"size\":18},{\"name\":\"Mike\",\"size\":17},{\"name\":\"Donald\",\"size\":17},{\"name\":\"Nigel\",\"size\":17},{\"name\":\"Reginald\",\"size\":16},{\"name\":\"Tony\",\"size\":16},{\"name\":\"Albert\",\"size\":16},{\"name\":\"Gordon\",\"size\":16},{\"name\":\"Bob\",\"size\":16},{\"name\":\"Malcolm\",\"size\":16},{\"name\":\"Neil\",\"size\":16},{\"name\":\"Ronald\",\"size\":15},{\"name\":\"Jack\",\"size\":14},{\"name\":\"Brian\",\"size\":14},{\"name\":\"Philip\",\"size\":14},{\"name\":\"Nick\",\"size\":14},{\"name\":\"Simon\",\"size\":14},{\"name\":\"Nicholas\",\"size\":13},{\"name\":\"Keith\",\"size\":13},{\"name\":\"Bill\",\"size\":13},{\"name\":\"Kenneth\",\"size\":13},{\"name\":\"Colin\",\"size\":13},{\"name\":\"Percy\",\"size\":13},{\"name\":\"Tim\",\"size\":12},{\"name\":\"Leslie\",\"size\":12},{\"name\":\"Cyril\",\"size\":12},{\"name\":\"Alex\",\"size\":11},{\"name\":\"Derek\",\"size\":11},{\"name\":\"Ben\",\"size\":11},{\"name\":\"Julian\",\"size\":10},{\"name\":\"Gerald\",\"size\":10},{\"name\":\"Herbert\",\"size\":10},{\"name\":\"Iain\",\"size\":10},{\"name\":\"Graham\",\"size\":10},{\"name\":\"Oliver\",\"size\":10},{\"name\":\"Stanley\",\"size\":10},{\"name\":\"Alexander\",\"size\":9},{\"name\":\"Jeremy\",\"size\":9},{\"name\":\"Maurice\",\"size\":9},{\"name\":\"Adam\",\"size\":9},{\"name\":\"Roy\",\"size\":9},{\"name\":\"Dennis\",\"size\":8},{\"name\":\"Daniel\",\"size\":8},{\"name\":\"Steve\",\"size\":8},{\"name\":\"Ralph\",\"size\":8},{\"name\":\"Andy\",\"size\":8},{\"name\":\"Samuel\",\"size\":8},{\"name\":\"Francis\",\"size\":8},{\"name\":\"Fred\",\"size\":8},{\"name\":\"Jonathan\",\"size\":8},{\"name\":\"Matthew\",\"size\":8},{\"name\":\"Dan\",\"size\":7},{\"name\":\"Willie\",\"size\":7},{\"name\":\"Phil\",\"size\":7},{\"name\":\"Barry\",\"size\":7},{\"name\":\"Gerry\",\"size\":7},{\"name\":\"Robin\",\"size\":7},{\"name\":\"Denis\",\"size\":7},{\"name\":\"Terence\",\"size\":7},{\"name\":\"Bernard\",\"size\":7},{\"name\":\"Other men\",\"size\":870}]}, {\"name\": \"women\", \"children\": [{\"name\":\"Margaret\",\"size\":11},{\"name\":\"Anne\",\"size\":11},{\"name\":\"Helen\",\"size\":10},{\"name\":\"Joan\",\"size\":9},{\"name\":\"Angela\",\"size\":9},{\"name\":\"Caroline\",\"size\":8},{\"name\":\"Ann\",\"size\":8},{\"name\":\"Jo\",\"size\":7},{\"name\":\"Sarah\",\"size\":7},{\"name\":\"Ray\",\"size\":6},{\"name\":\"Mary\",\"size\":6},{\"name\":\"Julie\",\"size\":5},{\"name\":\"Emma\",\"size\":5},{\"name\":\"Liz\",\"size\":5},{\"name\":\"Barbara\",\"size\":5},{\"name\":\"Fiona\",\"size\":5},{\"name\":\"Patricia\",\"size\":5},{\"name\":\"Lucy\",\"size\":5},{\"name\":\"Pat\",\"size\":4},{\"name\":\"Kate\",\"size\":4},{\"name\":\"Janet\",\"size\":4},{\"name\":\"Laura\",\"size\":4},{\"name\":\"Maria\",\"size\":4},{\"name\":\"Judith\",\"size\":4},{\"name\":\"Ruth\",\"size\":4},{\"name\":\"Diana\",\"size\":3},{\"name\":\"Karen\",\"size\":3},{\"name\":\"Julia\",\"size\":3},{\"name\":\"Rebecca\",\"size\":3},{\"name\":\"Betty\",\"size\":3},{\"name\":\"Lynda\",\"size\":3},{\"name\":\"Evelyn\",\"size\":3},{\"name\":\"Edith\",\"size\":3},{\"name\":\"Hilary\",\"size\":3},{\"name\":\"Alice\",\"size\":3},{\"name\":\"Claire\",\"size\":3},{\"name\":\"Christine\",\"size\":3},{\"name\":\"Anna\",\"size\":3},{\"name\":\"Michelle\",\"size\":3},{\"name\":\"Jenny\",\"size\":3},{\"name\":\"Carol\",\"size\":3},{\"name\":\"Rosie\",\"size\":3},{\"name\":\"Elizabeth\",\"size\":3},{\"name\":\"Sheila\",\"size\":3},{\"name\":\"Linda\",\"size\":3},{\"name\":\"Jane\",\"size\":3},{\"name\":\"Rachel\",\"size\":3},{\"name\":\"Jackie\",\"size\":3},{\"name\":\"Gillian\",\"size\":3},{\"name\":\"Louise\",\"size\":3},{\"name\":\"Alison\",\"size\":3},{\"name\":\"Mervyn\",\"size\":3},{\"name\":\"Victoria\",\"size\":3},{\"name\":\"Vicky\",\"size\":2},{\"name\":\"Maureen\",\"size\":2},{\"name\":\"Marsha\",\"size\":2},{\"name\":\"Marion\",\"size\":2},{\"name\":\"Harriet\",\"size\":2},{\"name\":\"Tessa\",\"size\":2},{\"name\":\"Melanie\",\"size\":2},{\"name\":\"Catherine\",\"size\":2},{\"name\":\"Florence\",\"size\":2},{\"name\":\"Lisa\",\"size\":2},{\"name\":\"Susan\",\"size\":2},{\"name\":\"Elaine\",\"size\":2},{\"name\":\"Dawn\",\"size\":2},{\"name\":\"Sally\",\"size\":2},{\"name\":\"Theresa\",\"size\":2},{\"name\":\"Andrea\",\"size\":2},{\"name\":\"Lynne\",\"size\":2},{\"name\":\"Heidi\",\"size\":2},{\"name\":\"Seema\",\"size\":2},{\"name\":\"Irene\",\"size\":2},{\"name\":\"Charlotte\",\"size\":2},{\"name\":\"Shirley\",\"size\":2},{\"name\":\"Joyce\",\"size\":2},{\"name\":\"Amanda\",\"size\":2},{\"name\":\"Sue\",\"size\":2},{\"name\":\"Kerry\",\"size\":2},{\"name\":\"Thelma\",\"size\":2},{\"name\":\"Eleanor\",\"size\":2},{\"name\":\"Muriel\",\"size\":2},{\"name\":\"Beverley\",\"size\":2},{\"name\":\"Meg\",\"size\":2},{\"name\":\"Sandra\",\"size\":2},{\"name\":\"Jessica\",\"size\":2},{\"name\":\"Jean\",\"size\":2},{\"name\":\"Jacqui\",\"size\":2},{\"name\":\"Valerie\",\"size\":2},{\"name\":\"Teresa\",\"size\":2},{\"name\":\"Bridget\",\"size\":2},{\"name\":\"Jill\",\"size\":1},{\"name\":\"Kirsten\",\"size\":1},{\"name\":\"Wera\",\"size\":1},{\"name\":\"Mhairi\",\"size\":1},{\"name\":\"Eveline\",\"size\":1},{\"name\":\"Agnes\",\"size\":1},{\"name\":\"Frances\",\"size\":1},{\"name\":\"Audrey\",\"size\":1},{\"name\":\"Winnie\",\"size\":1},{\"name\":\"Other women\",\"size\":304}]}] }'"
      ]
     },
     "execution_count": 35,
     "metadata": {},
     "output_type": "execute_result"
    }
   ],
   "source": [
    "'{ \"name\": \"MPs\", \"children\": [ {\"name\": \"men\", \"children\": ' + men + '}, {\"name\": \"women\", \"children\": ' + women + '}] }'"
   ]
  }
 ],
 "metadata": {
  "kernelspec": {
   "display_name": "Python [conda env:nlp]",
   "language": "python",
   "name": "conda-env-nlp-py"
  },
  "language_info": {
   "codemirror_mode": {
    "name": "ipython",
    "version": 3
   },
   "file_extension": ".py",
   "mimetype": "text/x-python",
   "name": "python",
   "nbconvert_exporter": "python",
   "pygments_lexer": "ipython3",
   "version": "3.6.1"
  },
  "toc": {
   "nav_menu": {},
   "number_sections": true,
   "sideBar": false,
   "skip_h1_title": true,
   "toc_cell": true,
   "toc_position": {},
   "toc_section_display": "block",
   "toc_window_display": true
  }
 },
 "nbformat": 4,
 "nbformat_minor": 2
}
